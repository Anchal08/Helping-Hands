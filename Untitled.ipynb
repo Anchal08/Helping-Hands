{
 "cells": [
  {
   "cell_type": "code",
   "execution_count": 1,
   "metadata": {},
   "outputs": [],
   "source": [
    "\n",
    "from nltk import word_tokenize\n",
    "words = word_tokenize(\"hello 123 what are you so\")\n",
    "import stopword\n",
    "usefull_words = [str(w).lower() for w in words if w.lower() not in set(stopword.words())]\n"
   ]
  },
  {
   "cell_type": "code",
   "execution_count": 3,
   "metadata": {},
   "outputs": [],
   "source": [
    "for i in range(len(usefull_words)):\n",
    "    if usefull_words[i].isnumeric():\n",
    "        num=list(usefull_words[i])\n",
    "        del usefull_words[i]\n",
    "        for j in range(len(num):\n",
    "            usefull_words.insert()\n",
    "        "
   ]
  },
  {
   "cell_type": "code",
   "execution_count": null,
   "metadata": {},
   "outputs": [],
   "source": []
  }
 ],
 "metadata": {
  "kernelspec": {
   "display_name": "Python 3",
   "language": "python",
   "name": "python3"
  },
  "language_info": {
   "codemirror_mode": {
    "name": "ipython",
    "version": 3
   },
   "file_extension": ".py",
   "mimetype": "text/x-python",
   "name": "python",
   "nbconvert_exporter": "python",
   "pygments_lexer": "ipython3",
   "version": "3.6.8"
  }
 },
 "nbformat": 4,
 "nbformat_minor": 2
}
